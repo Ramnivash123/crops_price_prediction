{
 "cells": [
  {
   "cell_type": "code",
   "execution_count": 1,
   "metadata": {
    "executionInfo": {
     "elapsed": 7,
     "status": "ok",
     "timestamp": 1696393126181,
     "user": {
      "displayName": "Ramnivash",
      "userId": "07203976126323004124"
     },
     "user_tz": -330
    },
    "id": "dTyTAzoQZdgV"
   },
   "outputs": [],
   "source": [
    "import pandas as pd\n",
    "import numpy as np\n",
    "from sklearn.model_selection import train_test_split\n",
    "from sklearn.ensemble import RandomForestRegressor\n",
    "from sklearn.metrics import mean_squared_error,mean_absolute_error,r2_score\n",
    "import matplotlib.pyplot as plt\n",
    "import seaborn as sns"
   ]
  },
  {
   "cell_type": "code",
   "execution_count": 2,
   "metadata": {
    "executionInfo": {
     "elapsed": 683,
     "status": "ok",
     "timestamp": 1696393128688,
     "user": {
      "displayName": "Ramnivash",
      "userId": "07203976126323004124"
     },
     "user_tz": -330
    },
    "id": "xE85ZLoxZo1d"
   },
   "outputs": [],
   "source": [
    "crops=pd.read_csv(\"crop_production.csv\")\n",
    "rain=pd.read_csv(\"rainfall_in_india_till_2023.csv\")\n",
    "economy=pd.read_csv(\"indianEco_till_2023.csv\")"
   ]
  },
  {
   "cell_type": "code",
   "execution_count": 3,
   "metadata": {
    "colab": {
     "base_uri": "https://localhost:8080/",
     "height": 206
    },
    "executionInfo": {
     "elapsed": 69,
     "status": "ok",
     "timestamp": 1696393128688,
     "user": {
      "displayName": "Ramnivash",
      "userId": "07203976126323004124"
     },
     "user_tz": -330
    },
    "id": "FSx4I7lyZwC1",
    "outputId": "ac30daac-2616-4ad5-fb00-2c128b824613",
    "scrolled": false
   },
   "outputs": [
    {
     "data": {
      "text/html": [
       "<div>\n",
       "<style scoped>\n",
       "    .dataframe tbody tr th:only-of-type {\n",
       "        vertical-align: middle;\n",
       "    }\n",
       "\n",
       "    .dataframe tbody tr th {\n",
       "        vertical-align: top;\n",
       "    }\n",
       "\n",
       "    .dataframe thead th {\n",
       "        text-align: right;\n",
       "    }\n",
       "</style>\n",
       "<table border=\"1\" class=\"dataframe\">\n",
       "  <thead>\n",
       "    <tr style=\"text-align: right;\">\n",
       "      <th></th>\n",
       "      <th>State_Name</th>\n",
       "      <th>District_Name</th>\n",
       "      <th>YEAR</th>\n",
       "      <th>Season</th>\n",
       "      <th>Crop</th>\n",
       "      <th>Area</th>\n",
       "      <th>Production</th>\n",
       "      <th>MSP</th>\n",
       "    </tr>\n",
       "  </thead>\n",
       "  <tbody>\n",
       "    <tr>\n",
       "      <th>0</th>\n",
       "      <td>Andhra Pradesh</td>\n",
       "      <td>ANANTAPUR</td>\n",
       "      <td>2019</td>\n",
       "      <td>Kharif</td>\n",
       "      <td>Arhar/Tur</td>\n",
       "      <td>66013.0</td>\n",
       "      <td>11156.0</td>\n",
       "      <td>168.997016</td>\n",
       "    </tr>\n",
       "    <tr>\n",
       "      <th>1</th>\n",
       "      <td>Andhra Pradesh</td>\n",
       "      <td>ANANTAPUR</td>\n",
       "      <td>2019</td>\n",
       "      <td>Kharif</td>\n",
       "      <td>Bajra</td>\n",
       "      <td>2019.0</td>\n",
       "      <td>1465.0</td>\n",
       "      <td>725.606736</td>\n",
       "    </tr>\n",
       "    <tr>\n",
       "      <th>2</th>\n",
       "      <td>Andhra Pradesh</td>\n",
       "      <td>ANANTAPUR</td>\n",
       "      <td>2019</td>\n",
       "      <td>Kharif</td>\n",
       "      <td>Castor seed</td>\n",
       "      <td>4328.0</td>\n",
       "      <td>3795.0</td>\n",
       "      <td>876.848429</td>\n",
       "    </tr>\n",
       "    <tr>\n",
       "      <th>3</th>\n",
       "      <td>Andhra Pradesh</td>\n",
       "      <td>ANANTAPUR</td>\n",
       "      <td>2019</td>\n",
       "      <td>Kharif</td>\n",
       "      <td>Cotton(lint)</td>\n",
       "      <td>4338.0</td>\n",
       "      <td>2977.0</td>\n",
       "      <td>686.260950</td>\n",
       "    </tr>\n",
       "    <tr>\n",
       "      <th>4</th>\n",
       "      <td>Andhra Pradesh</td>\n",
       "      <td>ANANTAPUR</td>\n",
       "      <td>2019</td>\n",
       "      <td>Kharif</td>\n",
       "      <td>Dry chillies</td>\n",
       "      <td>1968.0</td>\n",
       "      <td>7307.0</td>\n",
       "      <td>3712.906504</td>\n",
       "    </tr>\n",
       "  </tbody>\n",
       "</table>\n",
       "</div>"
      ],
      "text/plain": [
       "       State_Name District_Name  YEAR       Season          Crop     Area  \\\n",
       "0  Andhra Pradesh     ANANTAPUR  2019  Kharif          Arhar/Tur  66013.0   \n",
       "1  Andhra Pradesh     ANANTAPUR  2019  Kharif              Bajra   2019.0   \n",
       "2  Andhra Pradesh     ANANTAPUR  2019  Kharif        Castor seed   4328.0   \n",
       "3  Andhra Pradesh     ANANTAPUR  2019  Kharif       Cotton(lint)   4338.0   \n",
       "4  Andhra Pradesh     ANANTAPUR  2019  Kharif       Dry chillies   1968.0   \n",
       "\n",
       "   Production          MSP  \n",
       "0     11156.0   168.997016  \n",
       "1      1465.0   725.606736  \n",
       "2      3795.0   876.848429  \n",
       "3      2977.0   686.260950  \n",
       "4      7307.0  3712.906504  "
      ]
     },
     "execution_count": 3,
     "metadata": {},
     "output_type": "execute_result"
    }
   ],
   "source": [
    "crops.head()"
   ]
  },
  {
   "cell_type": "code",
   "execution_count": 4,
   "metadata": {
    "colab": {
     "base_uri": "https://localhost:8080/",
     "height": 397
    },
    "executionInfo": {
     "elapsed": 66,
     "status": "ok",
     "timestamp": 1696393128689,
     "user": {
      "displayName": "Ramnivash",
      "userId": "07203976126323004124"
     },
     "user_tz": -330
    },
    "id": "Ip9LABVKZwGN",
    "outputId": "a38df4ca-b547-411f-9d1c-cbcb9ac9a80f"
   },
   "outputs": [
    {
     "data": {
      "text/html": [
       "<div>\n",
       "<style scoped>\n",
       "    .dataframe tbody tr th:only-of-type {\n",
       "        vertical-align: middle;\n",
       "    }\n",
       "\n",
       "    .dataframe tbody tr th {\n",
       "        vertical-align: top;\n",
       "    }\n",
       "\n",
       "    .dataframe thead th {\n",
       "        text-align: right;\n",
       "    }\n",
       "</style>\n",
       "<table border=\"1\" class=\"dataframe\">\n",
       "  <thead>\n",
       "    <tr style=\"text-align: right;\">\n",
       "      <th></th>\n",
       "      <th>State_Name</th>\n",
       "      <th>YEAR</th>\n",
       "      <th>JAN</th>\n",
       "      <th>FEB</th>\n",
       "      <th>MAR</th>\n",
       "      <th>APR</th>\n",
       "      <th>MAY</th>\n",
       "      <th>JUN</th>\n",
       "      <th>JUL</th>\n",
       "      <th>AUG</th>\n",
       "      <th>SEP</th>\n",
       "      <th>OCT</th>\n",
       "      <th>NOV</th>\n",
       "      <th>DEC</th>\n",
       "      <th>ANNUAL</th>\n",
       "      <th>Jan-Feb</th>\n",
       "      <th>Mar-May</th>\n",
       "      <th>Jun-Sep</th>\n",
       "      <th>Oct-Dec</th>\n",
       "    </tr>\n",
       "  </thead>\n",
       "  <tbody>\n",
       "    <tr>\n",
       "      <th>0</th>\n",
       "      <td>ANDAMAN &amp; NICOBAR ISLANDS</td>\n",
       "      <td>2023</td>\n",
       "      <td>49.2</td>\n",
       "      <td>87.1</td>\n",
       "      <td>29.2</td>\n",
       "      <td>2.3</td>\n",
       "      <td>528.8</td>\n",
       "      <td>517.5</td>\n",
       "      <td>365.1</td>\n",
       "      <td>481.1</td>\n",
       "      <td>332.6</td>\n",
       "      <td>388.5</td>\n",
       "      <td>558.2</td>\n",
       "      <td>33.6</td>\n",
       "      <td>3373.2</td>\n",
       "      <td>136.3</td>\n",
       "      <td>560.3</td>\n",
       "      <td>1696.3</td>\n",
       "      <td>980.3</td>\n",
       "    </tr>\n",
       "    <tr>\n",
       "      <th>1</th>\n",
       "      <td>ANDAMAN &amp; NICOBAR ISLANDS</td>\n",
       "      <td>2016</td>\n",
       "      <td>0.0</td>\n",
       "      <td>159.8</td>\n",
       "      <td>12.2</td>\n",
       "      <td>0.0</td>\n",
       "      <td>446.1</td>\n",
       "      <td>537.1</td>\n",
       "      <td>228.9</td>\n",
       "      <td>753.7</td>\n",
       "      <td>666.2</td>\n",
       "      <td>197.2</td>\n",
       "      <td>359.0</td>\n",
       "      <td>160.5</td>\n",
       "      <td>3520.7</td>\n",
       "      <td>159.8</td>\n",
       "      <td>458.3</td>\n",
       "      <td>2185.9</td>\n",
       "      <td>716.7</td>\n",
       "    </tr>\n",
       "    <tr>\n",
       "      <th>2</th>\n",
       "      <td>ANDAMAN &amp; NICOBAR ISLANDS</td>\n",
       "      <td>2018</td>\n",
       "      <td>12.7</td>\n",
       "      <td>144.0</td>\n",
       "      <td>0.0</td>\n",
       "      <td>1.0</td>\n",
       "      <td>235.1</td>\n",
       "      <td>479.9</td>\n",
       "      <td>728.4</td>\n",
       "      <td>326.7</td>\n",
       "      <td>339.0</td>\n",
       "      <td>181.2</td>\n",
       "      <td>284.4</td>\n",
       "      <td>225.0</td>\n",
       "      <td>2957.4</td>\n",
       "      <td>156.7</td>\n",
       "      <td>236.1</td>\n",
       "      <td>1874.0</td>\n",
       "      <td>690.6</td>\n",
       "    </tr>\n",
       "    <tr>\n",
       "      <th>3</th>\n",
       "      <td>ANDAMAN &amp; NICOBAR ISLANDS</td>\n",
       "      <td>2022</td>\n",
       "      <td>9.4</td>\n",
       "      <td>14.7</td>\n",
       "      <td>0.0</td>\n",
       "      <td>202.4</td>\n",
       "      <td>304.5</td>\n",
       "      <td>495.1</td>\n",
       "      <td>502.0</td>\n",
       "      <td>160.1</td>\n",
       "      <td>820.4</td>\n",
       "      <td>222.2</td>\n",
       "      <td>308.7</td>\n",
       "      <td>40.1</td>\n",
       "      <td>3079.6</td>\n",
       "      <td>24.1</td>\n",
       "      <td>506.9</td>\n",
       "      <td>1977.6</td>\n",
       "      <td>571.0</td>\n",
       "    </tr>\n",
       "    <tr>\n",
       "      <th>4</th>\n",
       "      <td>ANDAMAN &amp; NICOBAR ISLANDS</td>\n",
       "      <td>2021</td>\n",
       "      <td>1.3</td>\n",
       "      <td>0.0</td>\n",
       "      <td>3.3</td>\n",
       "      <td>26.9</td>\n",
       "      <td>279.5</td>\n",
       "      <td>628.7</td>\n",
       "      <td>368.7</td>\n",
       "      <td>330.5</td>\n",
       "      <td>297.0</td>\n",
       "      <td>260.7</td>\n",
       "      <td>25.4</td>\n",
       "      <td>344.7</td>\n",
       "      <td>2566.7</td>\n",
       "      <td>1.3</td>\n",
       "      <td>309.7</td>\n",
       "      <td>1624.9</td>\n",
       "      <td>630.8</td>\n",
       "    </tr>\n",
       "  </tbody>\n",
       "</table>\n",
       "</div>"
      ],
      "text/plain": [
       "                  State_Name  YEAR   JAN    FEB   MAR    APR    MAY    JUN  \\\n",
       "0  ANDAMAN & NICOBAR ISLANDS  2023  49.2   87.1  29.2    2.3  528.8  517.5   \n",
       "1  ANDAMAN & NICOBAR ISLANDS  2016   0.0  159.8  12.2    0.0  446.1  537.1   \n",
       "2  ANDAMAN & NICOBAR ISLANDS  2018  12.7  144.0   0.0    1.0  235.1  479.9   \n",
       "3  ANDAMAN & NICOBAR ISLANDS  2022   9.4   14.7   0.0  202.4  304.5  495.1   \n",
       "4  ANDAMAN & NICOBAR ISLANDS  2021   1.3    0.0   3.3   26.9  279.5  628.7   \n",
       "\n",
       "     JUL    AUG    SEP    OCT    NOV    DEC  ANNUAL  Jan-Feb  Mar-May  \\\n",
       "0  365.1  481.1  332.6  388.5  558.2   33.6  3373.2    136.3    560.3   \n",
       "1  228.9  753.7  666.2  197.2  359.0  160.5  3520.7    159.8    458.3   \n",
       "2  728.4  326.7  339.0  181.2  284.4  225.0  2957.4    156.7    236.1   \n",
       "3  502.0  160.1  820.4  222.2  308.7   40.1  3079.6     24.1    506.9   \n",
       "4  368.7  330.5  297.0  260.7   25.4  344.7  2566.7      1.3    309.7   \n",
       "\n",
       "   Jun-Sep  Oct-Dec  \n",
       "0   1696.3    980.3  \n",
       "1   2185.9    716.7  \n",
       "2   1874.0    690.6  \n",
       "3   1977.6    571.0  \n",
       "4   1624.9    630.8  "
      ]
     },
     "execution_count": 4,
     "metadata": {},
     "output_type": "execute_result"
    }
   ],
   "source": [
    "rain.head()"
   ]
  },
  {
   "cell_type": "code",
   "execution_count": 5,
   "metadata": {
    "colab": {
     "base_uri": "https://localhost:8080/",
     "height": 293
    },
    "executionInfo": {
     "elapsed": 65,
     "status": "ok",
     "timestamp": 1696393128689,
     "user": {
      "displayName": "Ramnivash",
      "userId": "07203976126323004124"
     },
     "user_tz": -330
    },
    "id": "t9Jf6leJZwI7",
    "outputId": "8d97ffd8-81a3-41a8-c1d0-b66a914c22ec"
   },
   "outputs": [
    {
     "data": {
      "text/html": [
       "<div>\n",
       "<style scoped>\n",
       "    .dataframe tbody tr th:only-of-type {\n",
       "        vertical-align: middle;\n",
       "    }\n",
       "\n",
       "    .dataframe tbody tr th {\n",
       "        vertical-align: top;\n",
       "    }\n",
       "\n",
       "    .dataframe thead th {\n",
       "        text-align: right;\n",
       "    }\n",
       "</style>\n",
       "<table border=\"1\" class=\"dataframe\">\n",
       "  <thead>\n",
       "    <tr style=\"text-align: right;\">\n",
       "      <th></th>\n",
       "      <th>YEAR</th>\n",
       "      <th>Country Name</th>\n",
       "      <th>GDP (current US$)</th>\n",
       "      <th>GDP per capita (current US$)</th>\n",
       "      <th>GDP growth (annual %)</th>\n",
       "      <th>Imports of goods and services (% of GDP)</th>\n",
       "      <th>Exports of goods and services (% of GDP)</th>\n",
       "      <th>Total reserves (includes gold, current US$)</th>\n",
       "      <th>Inflation, consumer prices (annual %)</th>\n",
       "      <th>Population, total</th>\n",
       "      <th>Population growth (annual %)</th>\n",
       "      <th>Life expectancy at birth, total (years)</th>\n",
       "    </tr>\n",
       "  </thead>\n",
       "  <tbody>\n",
       "    <tr>\n",
       "      <th>0</th>\n",
       "      <td>2010</td>\n",
       "      <td>India</td>\n",
       "      <td>37029883876</td>\n",
       "      <td>82</td>\n",
       "      <td>0.00</td>\n",
       "      <td>6.83</td>\n",
       "      <td>4.46</td>\n",
       "      <td>674536630.9</td>\n",
       "      <td>1.78</td>\n",
       "      <td>445954579</td>\n",
       "      <td>2.31</td>\n",
       "      <td>41.13</td>\n",
       "    </tr>\n",
       "    <tr>\n",
       "      <th>1</th>\n",
       "      <td>2011</td>\n",
       "      <td>India</td>\n",
       "      <td>39232435784</td>\n",
       "      <td>85</td>\n",
       "      <td>3.72</td>\n",
       "      <td>5.96</td>\n",
       "      <td>4.30</td>\n",
       "      <td>666357094.9</td>\n",
       "      <td>1.70</td>\n",
       "      <td>456351876</td>\n",
       "      <td>2.33</td>\n",
       "      <td>41.74</td>\n",
       "    </tr>\n",
       "    <tr>\n",
       "      <th>2</th>\n",
       "      <td>2012</td>\n",
       "      <td>India</td>\n",
       "      <td>42161481858</td>\n",
       "      <td>90</td>\n",
       "      <td>2.93</td>\n",
       "      <td>6.03</td>\n",
       "      <td>4.17</td>\n",
       "      <td>512791844.0</td>\n",
       "      <td>3.63</td>\n",
       "      <td>467024193</td>\n",
       "      <td>2.34</td>\n",
       "      <td>42.34</td>\n",
       "    </tr>\n",
       "    <tr>\n",
       "      <th>3</th>\n",
       "      <td>2013</td>\n",
       "      <td>India</td>\n",
       "      <td>48421923459</td>\n",
       "      <td>101</td>\n",
       "      <td>5.99</td>\n",
       "      <td>5.91</td>\n",
       "      <td>4.28</td>\n",
       "      <td>607862500.4</td>\n",
       "      <td>2.95</td>\n",
       "      <td>477933619</td>\n",
       "      <td>2.34</td>\n",
       "      <td>42.94</td>\n",
       "    </tr>\n",
       "    <tr>\n",
       "      <th>4</th>\n",
       "      <td>2014</td>\n",
       "      <td>India</td>\n",
       "      <td>56480289941</td>\n",
       "      <td>116</td>\n",
       "      <td>7.45</td>\n",
       "      <td>5.69</td>\n",
       "      <td>3.73</td>\n",
       "      <td>499145125.8</td>\n",
       "      <td>13.36</td>\n",
       "      <td>489059309</td>\n",
       "      <td>2.33</td>\n",
       "      <td>43.57</td>\n",
       "    </tr>\n",
       "  </tbody>\n",
       "</table>\n",
       "</div>"
      ],
      "text/plain": [
       "   YEAR Country Name  GDP (current US$)    GDP per capita (current US$)   \\\n",
       "0  2010        India         37029883876                              82   \n",
       "1  2011        India         39232435784                              85   \n",
       "2  2012        India         42161481858                              90   \n",
       "3  2013        India         48421923459                             101   \n",
       "4  2014        India         56480289941                             116   \n",
       "\n",
       "   GDP growth (annual %)  Imports of goods and services (% of GDP)  \\\n",
       "0                   0.00                                      6.83   \n",
       "1                   3.72                                      5.96   \n",
       "2                   2.93                                      6.03   \n",
       "3                   5.99                                      5.91   \n",
       "4                   7.45                                      5.69   \n",
       "\n",
       "   Exports of goods and services (% of GDP)  \\\n",
       "0                                      4.46   \n",
       "1                                      4.30   \n",
       "2                                      4.17   \n",
       "3                                      4.28   \n",
       "4                                      3.73   \n",
       "\n",
       "    Total reserves (includes gold, current US$)   \\\n",
       "0                                    674536630.9   \n",
       "1                                    666357094.9   \n",
       "2                                    512791844.0   \n",
       "3                                    607862500.4   \n",
       "4                                    499145125.8   \n",
       "\n",
       "   Inflation, consumer prices (annual %)  Population, total  \\\n",
       "0                                   1.78          445954579   \n",
       "1                                   1.70          456351876   \n",
       "2                                   3.63          467024193   \n",
       "3                                   2.95          477933619   \n",
       "4                                  13.36          489059309   \n",
       "\n",
       "   Population growth (annual %)  Life expectancy at birth, total (years)  \n",
       "0                          2.31                                    41.13  \n",
       "1                          2.33                                    41.74  \n",
       "2                          2.34                                    42.34  \n",
       "3                          2.34                                    42.94  \n",
       "4                          2.33                                    43.57  "
      ]
     },
     "execution_count": 5,
     "metadata": {},
     "output_type": "execute_result"
    }
   ],
   "source": [
    "economy.head()"
   ]
  },
  {
   "cell_type": "code",
   "execution_count": 6,
   "metadata": {
    "colab": {
     "base_uri": "https://localhost:8080/"
    },
    "executionInfo": {
     "elapsed": 64,
     "status": "ok",
     "timestamp": 1696393128690,
     "user": {
      "displayName": "Ramnivash",
      "userId": "07203976126323004124"
     },
     "user_tz": -330
    },
    "id": "_JhfdfzDZwLS",
    "outputId": "4e4e0d6f-71f2-47bc-aa46-c67247cdcfae"
   },
   "outputs": [
    {
     "data": {
      "text/plain": [
       "State_Name         0\n",
       "District_Name      0\n",
       "YEAR               0\n",
       "Season             0\n",
       "Crop               0\n",
       "Area               0\n",
       "Production       567\n",
       "MSP                0\n",
       "dtype: int64"
      ]
     },
     "execution_count": 6,
     "metadata": {},
     "output_type": "execute_result"
    }
   ],
   "source": [
    "crops.isnull().sum()"
   ]
  },
  {
   "cell_type": "code",
   "execution_count": 7,
   "metadata": {
    "colab": {
     "base_uri": "https://localhost:8080/"
    },
    "executionInfo": {
     "elapsed": 59,
     "status": "ok",
     "timestamp": 1696393128691,
     "user": {
      "displayName": "Ramnivash",
      "userId": "07203976126323004124"
     },
     "user_tz": -330
    },
    "id": "1HGX8LSjZwNi",
    "outputId": "831ffb80-57bb-4000-f486-24ccce01043e"
   },
   "outputs": [
    {
     "data": {
      "text/plain": [
       "State_Name       0\n",
       "District_Name    0\n",
       "YEAR             0\n",
       "Season           0\n",
       "Crop             0\n",
       "Area             0\n",
       "Production       0\n",
       "MSP              0\n",
       "dtype: int64"
      ]
     },
     "execution_count": 7,
     "metadata": {},
     "output_type": "execute_result"
    }
   ],
   "source": [
    "crops.dropna(inplace=True,axis=0)\n",
    "crops.isnull().sum()"
   ]
  },
  {
   "cell_type": "code",
   "execution_count": 8,
   "metadata": {
    "colab": {
     "base_uri": "https://localhost:8080/"
    },
    "executionInfo": {
     "elapsed": 57,
     "status": "ok",
     "timestamp": 1696393128692,
     "user": {
      "displayName": "Ramnivash",
      "userId": "07203976126323004124"
     },
     "user_tz": -330
    },
    "id": "YikAWh03ZwP6",
    "outputId": "8c7f787c-b647-4e34-cc93-e5be2df17938"
   },
   "outputs": [
    {
     "data": {
      "text/plain": [
       "State_Name     0\n",
       "YEAR           0\n",
       "JAN            4\n",
       "FEB            3\n",
       "MAR            6\n",
       "APR            4\n",
       "MAY            3\n",
       "JUN            5\n",
       "JUL            7\n",
       "AUG            4\n",
       "SEP            6\n",
       "OCT            7\n",
       "NOV           11\n",
       "DEC           10\n",
       "ANNUAL        26\n",
       "Jan-Feb        6\n",
       "Mar-May        9\n",
       "Jun-Sep       10\n",
       "Oct-Dec       13\n",
       "dtype: int64"
      ]
     },
     "execution_count": 8,
     "metadata": {},
     "output_type": "execute_result"
    }
   ],
   "source": [
    "rain.isnull().sum()"
   ]
  },
  {
   "cell_type": "code",
   "execution_count": 9,
   "metadata": {
    "colab": {
     "base_uri": "https://localhost:8080/"
    },
    "executionInfo": {
     "elapsed": 54,
     "status": "ok",
     "timestamp": 1696393128693,
     "user": {
      "displayName": "Ramnivash",
      "userId": "07203976126323004124"
     },
     "user_tz": -330
    },
    "id": "s-lRu-2MZwSh",
    "outputId": "295ac946-918d-41e4-e081-545436864cae"
   },
   "outputs": [
    {
     "data": {
      "text/plain": [
       "State_Name    0\n",
       "YEAR          0\n",
       "JAN           0\n",
       "FEB           0\n",
       "MAR           0\n",
       "APR           0\n",
       "MAY           0\n",
       "JUN           0\n",
       "JUL           0\n",
       "AUG           0\n",
       "SEP           0\n",
       "OCT           0\n",
       "NOV           0\n",
       "DEC           0\n",
       "ANNUAL        0\n",
       "Jan-Feb       0\n",
       "Mar-May       0\n",
       "Jun-Sep       0\n",
       "Oct-Dec       0\n",
       "dtype: int64"
      ]
     },
     "execution_count": 9,
     "metadata": {},
     "output_type": "execute_result"
    }
   ],
   "source": [
    "rain.dropna(inplace=True,axis=0)\n",
    "rain.isnull().sum()"
   ]
  },
  {
   "cell_type": "code",
   "execution_count": 10,
   "metadata": {
    "colab": {
     "base_uri": "https://localhost:8080/"
    },
    "executionInfo": {
     "elapsed": 52,
     "status": "ok",
     "timestamp": 1696393128694,
     "user": {
      "displayName": "Ramnivash",
      "userId": "07203976126323004124"
     },
     "user_tz": -330
    },
    "id": "hyvCm_NXZwVI",
    "outputId": "d0728866-ab98-4456-eefd-ff38c03a219a"
   },
   "outputs": [
    {
     "data": {
      "text/plain": [
       "YEAR                                             0\n",
       "Country Name                                     0\n",
       "GDP (current US$)                                0\n",
       " GDP per capita (current US$)                    0\n",
       "GDP growth (annual %)                            0\n",
       "Imports of goods and services (% of GDP)         0\n",
       "Exports of goods and services (% of GDP)         0\n",
       " Total reserves (includes gold, current US$)     0\n",
       "Inflation, consumer prices (annual %)            0\n",
       "Population, total                                0\n",
       "Population growth (annual %)                     0\n",
       "Life expectancy at birth, total (years)          0\n",
       "dtype: int64"
      ]
     },
     "execution_count": 10,
     "metadata": {},
     "output_type": "execute_result"
    }
   ],
   "source": [
    "economy.isnull().sum()"
   ]
  },
  {
   "cell_type": "code",
   "execution_count": 11,
   "metadata": {
    "executionInfo": {
     "elapsed": 6,
     "status": "ok",
     "timestamp": 1696393475061,
     "user": {
      "displayName": "Ramnivash",
      "userId": "07203976126323004124"
     },
     "user_tz": -330
    },
    "id": "l8hXQablZwXV"
   },
   "outputs": [],
   "source": [
    "left=crops[[\"State_Name\",\"YEAR\",\"Season\",\"Crop\",\"Area\",\"MSP\"]]\n",
    "right=rain[[\"State_Name\",\"YEAR\",\"ANNUAL\"]]\n",
    "eco_final=economy[[\"YEAR\",\"Population, total\"]]"
   ]
  },
  {
   "cell_type": "code",
   "execution_count": 39,
   "metadata": {
    "colab": {
     "base_uri": "https://localhost:8080/",
     "height": 206
    },
    "executionInfo": {
     "elapsed": 1756,
     "status": "ok",
     "timestamp": 1696393481752,
     "user": {
      "displayName": "Ramnivash",
      "userId": "07203976126323004124"
     },
     "user_tz": -330
    },
    "id": "dACfpE_ZZwZg",
    "outputId": "fbd049cb-1dfd-4c40-f337-b35071c2aa4f",
    "scrolled": true
   },
   "outputs": [
    {
     "data": {
      "text/html": [
       "<div>\n",
       "<style scoped>\n",
       "    .dataframe tbody tr th:only-of-type {\n",
       "        vertical-align: middle;\n",
       "    }\n",
       "\n",
       "    .dataframe tbody tr th {\n",
       "        vertical-align: top;\n",
       "    }\n",
       "\n",
       "    .dataframe thead th {\n",
       "        text-align: right;\n",
       "    }\n",
       "</style>\n",
       "<table border=\"1\" class=\"dataframe\">\n",
       "  <thead>\n",
       "    <tr style=\"text-align: right;\">\n",
       "      <th></th>\n",
       "      <th>State_Name</th>\n",
       "      <th>YEAR</th>\n",
       "      <th>Season</th>\n",
       "      <th>Crop</th>\n",
       "      <th>Area</th>\n",
       "      <th>MSP</th>\n",
       "      <th>ANNUAL</th>\n",
       "      <th>Population, total</th>\n",
       "    </tr>\n",
       "  </thead>\n",
       "  <tbody>\n",
       "    <tr>\n",
       "      <th>0</th>\n",
       "      <td>Andhra Pradesh</td>\n",
       "      <td>2019</td>\n",
       "      <td>Kharif</td>\n",
       "      <td>Arhar/Tur</td>\n",
       "      <td>66013.0</td>\n",
       "      <td>168.997016</td>\n",
       "      <td>1021.5</td>\n",
       "      <td>545314670</td>\n",
       "    </tr>\n",
       "    <tr>\n",
       "      <th>1</th>\n",
       "      <td>Andhra Pradesh</td>\n",
       "      <td>2019</td>\n",
       "      <td>Kharif</td>\n",
       "      <td>Arhar/Tur</td>\n",
       "      <td>66013.0</td>\n",
       "      <td>168.997016</td>\n",
       "      <td>1289.6</td>\n",
       "      <td>545314670</td>\n",
       "    </tr>\n",
       "    <tr>\n",
       "      <th>2</th>\n",
       "      <td>Andhra Pradesh</td>\n",
       "      <td>2019</td>\n",
       "      <td>Kharif</td>\n",
       "      <td>Arhar/Tur</td>\n",
       "      <td>66013.0</td>\n",
       "      <td>168.997016</td>\n",
       "      <td>1087.3</td>\n",
       "      <td>545314670</td>\n",
       "    </tr>\n",
       "    <tr>\n",
       "      <th>3</th>\n",
       "      <td>Andhra Pradesh</td>\n",
       "      <td>2019</td>\n",
       "      <td>Kharif</td>\n",
       "      <td>Arhar/Tur</td>\n",
       "      <td>66013.0</td>\n",
       "      <td>168.997016</td>\n",
       "      <td>1155.9</td>\n",
       "      <td>545314670</td>\n",
       "    </tr>\n",
       "    <tr>\n",
       "      <th>4</th>\n",
       "      <td>Andhra Pradesh</td>\n",
       "      <td>2019</td>\n",
       "      <td>Kharif</td>\n",
       "      <td>Arhar/Tur</td>\n",
       "      <td>66013.0</td>\n",
       "      <td>168.997016</td>\n",
       "      <td>1153.5</td>\n",
       "      <td>545314670</td>\n",
       "    </tr>\n",
       "  </tbody>\n",
       "</table>\n",
       "</div>"
      ],
      "text/plain": [
       "       State_Name  YEAR       Season       Crop     Area         MSP  ANNUAL  \\\n",
       "0  Andhra Pradesh  2019  Kharif       Arhar/Tur  66013.0  168.997016  1021.5   \n",
       "1  Andhra Pradesh  2019  Kharif       Arhar/Tur  66013.0  168.997016  1289.6   \n",
       "2  Andhra Pradesh  2019  Kharif       Arhar/Tur  66013.0  168.997016  1087.3   \n",
       "3  Andhra Pradesh  2019  Kharif       Arhar/Tur  66013.0  168.997016  1155.9   \n",
       "4  Andhra Pradesh  2019  Kharif       Arhar/Tur  66013.0  168.997016  1153.5   \n",
       "\n",
       "   Population, total  \n",
       "0          545314670  \n",
       "1          545314670  \n",
       "2          545314670  \n",
       "3          545314670  \n",
       "4          545314670  "
      ]
     },
     "execution_count": 39,
     "metadata": {},
     "output_type": "execute_result"
    }
   ],
   "source": [
    "fin=pd.merge(left,right,on=[\"YEAR\",\"State_Name\"])\n",
    "final=pd.merge(fin,eco_final,on=[\"YEAR\"])\n",
    "final.head()"
   ]
  },
  {
   "cell_type": "code",
   "execution_count": 92,
   "metadata": {},
   "outputs": [
    {
     "data": {
      "image/png": "[encoded data removed]",
      "text/plain": [
       "<Figure size 2000x500 with 1 Axes>"
      ]
     },
     "metadata": {},
     "output_type": "display_data"
    }
   ],
   "source": [
    "plt.figure(figsize=(20, 5))\n",
    "sns.lineplot(data=final, x=\"State_Name\", y=\"ANNUAL\")\n",
    "plt.title(\"State vs Rainfall\")\n",
    "plt.show()"
   ]
  },
  {
   "cell_type": "code",
   "execution_count": 85,
   "metadata": {},
   "outputs": [
    {
     "data": {
      "image/png": "[encoded data removed]",
      "text/plain": [
       "<Figure size 500x1000 with 1 Axes>"
      ]
     },
     "metadata": {},
     "output_type": "display_data"
    }
   ],
   "source": [
    "plt.figure(figsize=(5, 10))\n",
    "sns.barplot(data=final, y=\"Crop\", x=\"ANNUAL\")\n",
    "plt.title(\"Crop vs Rainfall\")\n",
    "plt.show()"
   ]
  },
  {
   "cell_type": "code",
   "execution_count": 86,
   "metadata": {},
   "outputs": [
    {
     "data": {
      "image/png": "[encoded data removed]",
      "text/plain": [
       "<Figure size 1000x600 with 1 Axes>"
      ]
     },
     "metadata": {},
     "output_type": "display_data"
    }
   ],
   "source": [
    "plt.figure(figsize=(10, 6))\n",
    "sns.barplot(data=final, x=\"YEAR\", y=\"MSP\")\n",
    "plt.title(\"Crop Price Over Time\")\n",
    "plt.show()"
   ]
  },
  {
   "cell_type": "code",
   "execution_count": 69,
   "metadata": {},
   "outputs": [
    {
     "data": {
      "image/png": "[encoded data removed]",
      "text/plain": [
       "<Figure size 1000x600 with 1 Axes>"
      ]
     },
     "metadata": {},
     "output_type": "display_data"
    }
   ],
   "source": [
    "plt.figure(figsize=(10, 6))\n",
    "sns.lineplot(data=final, x=\"YEAR\", y=\"Population, total\")\n",
    "plt.title(\"Population Over Time\")\n",
    "plt.show()"
   ]
  },
  {
   "cell_type": "code",
   "execution_count": 88,
   "metadata": {},
   "outputs": [
    {
     "data": {
      "image/png": "[encoded data removed]",
      "text/plain": [
       "<Figure size 1000x600 with 1 Axes>"
      ]
     },
     "metadata": {},
     "output_type": "display_data"
    }
   ],
   "source": [
    "plt.figure(figsize=(10, 6))\n",
    "sns.lineplot(data=final, x=\"YEAR\", y=\"ANNUAL\")\n",
    "plt.title(\"Rainfall Over Time\")\n",
    "plt.show()"
   ]
  },
  {
   "cell_type": "code",
   "execution_count": 82,
   "metadata": {},
   "outputs": [
    {
     "data": {
      "image/png": "[encoded data removed]",
      "text/plain": [
       "<Figure size 500x1000 with 1 Axes>"
      ]
     },
     "metadata": {},
     "output_type": "display_data"
    }
   ],
   "source": [
    "plt.figure(figsize=(5, 10))\n",
    "sns.barplot(data=final, y=\"State_Name\", x=\"MSP\")\n",
    "plt.title(\"State vs Price\")\n",
    "plt.show()"
   ]
  },
  {
   "cell_type": "code",
   "execution_count": 13,
   "metadata": {
    "colab": {
     "base_uri": "https://localhost:8080/"
    },
    "executionInfo": {
     "elapsed": 47,
     "status": "ok",
     "timestamp": 1696393128695,
     "user": {
      "displayName": "Ramnivash",
      "userId": "07203976126323004124"
     },
     "user_tz": -330
    },
    "id": "-bS14YJlZwdD",
    "outputId": "a75a2137-db10-4566-da1a-f521279ecf90"
   },
   "outputs": [
    {
     "name": "stdout",
     "output_type": "stream",
     "text": [
      "Andhra Pradesh 1\n",
      "Assam 2\n",
      "Gujarat 3\n",
      "Himachal Pradesh 4\n",
      "Karnataka 5\n",
      "Kerala 6\n",
      "Madhya Pradesh 7\n",
      "Maharashtra 8\n",
      "Tamil Nadu 9\n",
      "Uttar Pradesh 10\n",
      "West Bengal 11\n",
      "Jammu and Kashmir  12\n"
     ]
    }
   ],
   "source": [
    "s=0\n",
    "l1=final[\"State_Name\"].unique()\n",
    "for i in l1:\n",
    "  s+=1\n",
    "  print(i,s)"
   ]
  },
  {
   "cell_type": "code",
   "execution_count": 14,
   "metadata": {
    "colab": {
     "base_uri": "https://localhost:8080/"
    },
    "executionInfo": {
     "elapsed": 45,
     "status": "ok",
     "timestamp": 1696393128696,
     "user": {
      "displayName": "Ramnivash",
      "userId": "07203976126323004124"
     },
     "user_tz": -330
    },
    "id": "F-dBeiKIavLV",
    "outputId": "597e3dba-56f3-4e2b-a5a8-5fb6b25c824f"
   },
   "outputs": [
    {
     "name": "stdout",
     "output_type": "stream",
     "text": [
      "Kharif      1\n",
      "Rabi        2\n",
      "Whole Year  3\n",
      "Autumn      4\n",
      "Summer      5\n",
      "Winter      6\n"
     ]
    }
   ],
   "source": [
    "s=0\n",
    "l2=final[\"Season\"].unique()\n",
    "for i in  l2:\n",
    "  s+=1\n",
    "  print(i,s)"
   ]
  },
  {
   "cell_type": "code",
   "execution_count": 15,
   "metadata": {
    "colab": {
     "base_uri": "https://localhost:8080/"
    },
    "executionInfo": {
     "elapsed": 42,
     "status": "ok",
     "timestamp": 1696393128696,
     "user": {
      "displayName": "Ramnivash",
      "userId": "07203976126323004124"
     },
     "user_tz": -330
    },
    "id": "FhgSA3EzavN1",
    "outputId": "56b0ebd2-c7ac-4e5a-ed94-022140773663"
   },
   "outputs": [
    {
     "name": "stdout",
     "output_type": "stream",
     "text": [
      "Arhar/Tur 1\n",
      "Bajra 2\n",
      "Castor seed 3\n",
      "Cotton(lint) 4\n",
      "Dry chillies 5\n",
      "Groundnut 6\n",
      "Horse-gram 7\n",
      "Jowar 8\n",
      "Maize 9\n",
      "Mesta 10\n",
      "Moong(Green Gram) 11\n",
      "Onion 12\n",
      "Ragi 13\n",
      "Rice 14\n",
      "Small millets 15\n",
      "Soyabean 16\n",
      "Urad 17\n",
      "Gram 18\n",
      "Safflower 19\n",
      "Wheat 20\n",
      "Arecanut 21\n",
      "Banana 22\n",
      "Coriander 23\n",
      "Potato 24\n",
      "Sugarcane 25\n",
      "Sunflower 26\n",
      "Sweet potato 27\n",
      "Tobacco 28\n",
      "Turmeric 29\n",
      "Other Kharif pulses 30\n",
      "Sesamum 31\n",
      "Rapeseed &Mustard 32\n",
      "Cashewnut 33\n",
      "Tapioca 34\n",
      "Linseed 35\n",
      "Other  Rabi pulses 36\n",
      "Garlic 37\n",
      "Dry ginger 38\n",
      "Ginger 39\n",
      "Niger seed 40\n",
      "Jute 41\n",
      "Masoor 42\n",
      "Peas & beans (Pulses) 43\n",
      "Black pepper 44\n",
      "Coconut  45\n",
      "Moth 46\n",
      "other oilseeds 47\n",
      "Guar seed 48\n",
      "Other Cereals & Millets 49\n",
      "Barley 50\n",
      "Cowpea(Lobia) 51\n",
      "Sannhamp 52\n",
      "Cardamom 53\n",
      "Khesari 54\n",
      "Paddy 55\n",
      "Orange 56\n",
      "Papaya 57\n",
      "Pineapple 58\n",
      "Brinjal 59\n",
      "Grapes 60\n",
      "Lemon 61\n",
      "Mango 62\n",
      "Pome Granet 63\n",
      "Sapota 64\n",
      "Tomato 65\n",
      "Cabbage 66\n",
      "Drum Stick 67\n"
     ]
    }
   ],
   "source": [
    "s=0\n",
    "l3=final[\"Crop\"].unique()\n",
    "for i in l3:\n",
    "  s+=1\n",
    "  print(i,s)"
   ]
  },
  {
   "cell_type": "code",
   "execution_count": 16,
   "metadata": {
    "executionInfo": {
     "elapsed": 38,
     "status": "ok",
     "timestamp": 1696393128696,
     "user": {
      "displayName": "Ramnivash",
      "userId": "07203976126323004124"
     },
     "user_tz": -330
    },
    "id": "TT90ZNT4avYK"
   },
   "outputs": [],
   "source": [
    "df=final"
   ]
  },
  {
   "cell_type": "code",
   "execution_count": 17,
   "metadata": {
    "colab": {
     "base_uri": "https://localhost:8080/",
     "height": 206
    },
    "executionInfo": {
     "elapsed": 39,
     "status": "ok",
     "timestamp": 1696393128697,
     "user": {
      "displayName": "Ramnivash",
      "userId": "07203976126323004124"
     },
     "user_tz": -330
    },
    "id": "NYeTE7uodSQn",
    "outputId": "366c75f1-3f8c-48a5-92b3-4e206a50f48c"
   },
   "outputs": [
    {
     "data": {
      "text/html": [
       "<div>\n",
       "<style scoped>\n",
       "    .dataframe tbody tr th:only-of-type {\n",
       "        vertical-align: middle;\n",
       "    }\n",
       "\n",
       "    .dataframe tbody tr th {\n",
       "        vertical-align: top;\n",
       "    }\n",
       "\n",
       "    .dataframe thead th {\n",
       "        text-align: right;\n",
       "    }\n",
       "</style>\n",
       "<table border=\"1\" class=\"dataframe\">\n",
       "  <thead>\n",
       "    <tr style=\"text-align: right;\">\n",
       "      <th></th>\n",
       "      <th>State_Name</th>\n",
       "      <th>YEAR</th>\n",
       "      <th>Season</th>\n",
       "      <th>Crop</th>\n",
       "      <th>Area</th>\n",
       "      <th>MSP</th>\n",
       "      <th>ANNUAL</th>\n",
       "      <th>Population, total</th>\n",
       "    </tr>\n",
       "  </thead>\n",
       "  <tbody>\n",
       "    <tr>\n",
       "      <th>0</th>\n",
       "      <td>Andhra Pradesh</td>\n",
       "      <td>2019</td>\n",
       "      <td>Kharif</td>\n",
       "      <td>Arhar/Tur</td>\n",
       "      <td>66013.0</td>\n",
       "      <td>168.997016</td>\n",
       "      <td>1021.5</td>\n",
       "      <td>545314670</td>\n",
       "    </tr>\n",
       "    <tr>\n",
       "      <th>1</th>\n",
       "      <td>Andhra Pradesh</td>\n",
       "      <td>2019</td>\n",
       "      <td>Kharif</td>\n",
       "      <td>Arhar/Tur</td>\n",
       "      <td>66013.0</td>\n",
       "      <td>168.997016</td>\n",
       "      <td>1289.6</td>\n",
       "      <td>545314670</td>\n",
       "    </tr>\n",
       "    <tr>\n",
       "      <th>2</th>\n",
       "      <td>Andhra Pradesh</td>\n",
       "      <td>2019</td>\n",
       "      <td>Kharif</td>\n",
       "      <td>Arhar/Tur</td>\n",
       "      <td>66013.0</td>\n",
       "      <td>168.997016</td>\n",
       "      <td>1087.3</td>\n",
       "      <td>545314670</td>\n",
       "    </tr>\n",
       "    <tr>\n",
       "      <th>3</th>\n",
       "      <td>Andhra Pradesh</td>\n",
       "      <td>2019</td>\n",
       "      <td>Kharif</td>\n",
       "      <td>Arhar/Tur</td>\n",
       "      <td>66013.0</td>\n",
       "      <td>168.997016</td>\n",
       "      <td>1155.9</td>\n",
       "      <td>545314670</td>\n",
       "    </tr>\n",
       "    <tr>\n",
       "      <th>4</th>\n",
       "      <td>Andhra Pradesh</td>\n",
       "      <td>2019</td>\n",
       "      <td>Kharif</td>\n",
       "      <td>Arhar/Tur</td>\n",
       "      <td>66013.0</td>\n",
       "      <td>168.997016</td>\n",
       "      <td>1153.5</td>\n",
       "      <td>545314670</td>\n",
       "    </tr>\n",
       "  </tbody>\n",
       "</table>\n",
       "</div>"
      ],
      "text/plain": [
       "       State_Name  YEAR       Season       Crop     Area         MSP  ANNUAL  \\\n",
       "0  Andhra Pradesh  2019  Kharif       Arhar/Tur  66013.0  168.997016  1021.5   \n",
       "1  Andhra Pradesh  2019  Kharif       Arhar/Tur  66013.0  168.997016  1289.6   \n",
       "2  Andhra Pradesh  2019  Kharif       Arhar/Tur  66013.0  168.997016  1087.3   \n",
       "3  Andhra Pradesh  2019  Kharif       Arhar/Tur  66013.0  168.997016  1155.9   \n",
       "4  Andhra Pradesh  2019  Kharif       Arhar/Tur  66013.0  168.997016  1153.5   \n",
       "\n",
       "   Population, total  \n",
       "0          545314670  \n",
       "1          545314670  \n",
       "2          545314670  \n",
       "3          545314670  \n",
       "4          545314670  "
      ]
     },
     "execution_count": 17,
     "metadata": {},
     "output_type": "execute_result"
    }
   ],
   "source": [
    "df.head()"
   ]
  },
  {
   "cell_type": "code",
   "execution_count": 18,
   "metadata": {
    "executionInfo": {
     "elapsed": 754,
     "status": "ok",
     "timestamp": 1696393129414,
     "user": {
      "displayName": "Ramnivash",
      "userId": "07203976126323004124"
     },
     "user_tz": -330
    },
    "id": "TI2msQgUdOTf"
   },
   "outputs": [],
   "source": [
    "df[\"State_Name\"].replace({'Andhra Pradesh':1, 'Assam':2, 'Gujarat':3, 'Himachal Pradesh':4,\n",
    "       'Karnataka':5, 'Kerala':6, 'Madhya Pradesh':7, 'Maharashtra':8,\n",
    "       'Tamil Nadu':9, 'Uttar Pradesh':10, 'West Bengal':11, 'Jammu and Kashmir ':12},inplace=True)"
   ]
  },
  {
   "cell_type": "code",
   "execution_count": 19,
   "metadata": {
    "executionInfo": {
     "elapsed": 6,
     "status": "ok",
     "timestamp": 1696393129415,
     "user": {
      "displayName": "Ramnivash",
      "userId": "07203976126323004124"
     },
     "user_tz": -330
    },
    "id": "P2Ay-vQ9dOWP"
   },
   "outputs": [],
   "source": [
    "df[\"Season\"].replace({'Kharif     ':1, 'Rabi       ':2, 'Whole Year ':3, 'Autumn     ':4,\n",
    "       'Summer     ':5, 'Winter     ':6},inplace=True)"
   ]
  },
  {
   "cell_type": "code",
   "execution_count": 20,
   "metadata": {
    "executionInfo": {
     "elapsed": 3286,
     "status": "ok",
     "timestamp": 1696393132696,
     "user": {
      "displayName": "Ramnivash",
      "userId": "07203976126323004124"
     },
     "user_tz": -330
    },
    "id": "lSP4WWkJdOZK"
   },
   "outputs": [],
   "source": [
    "df[\"Crop\"].replace({'Arhar/Tur':1, 'Bajra':2, 'Castor seed':3, 'Cotton(lint)':4,\n",
    "       'Dry chillies':5, 'Groundnut':6, 'Horse-gram':7, 'Jowar':8, 'Maize':9,\n",
    "       'Mesta':10, 'Moong(Green Gram)':11, 'Onion':12, 'Ragi':13, 'Rice':14,\n",
    "       'Small millets':15, 'Soyabean':16, 'Urad':17, 'Gram':18, 'Safflower':19, 'Wheat':20,\n",
    "       'Arecanut':21, 'Banana':22, 'Coriander':23, 'Potato':24, 'Sugarcane':25,\n",
    "       'Sunflower':26, 'Sweet potato':27, 'Tobacco':28, 'Turmeric':29,\n",
    "       'Other Kharif pulses':30, 'Sesamum':31, 'Rapeseed &Mustard':32, 'Cashewnut':33,\n",
    "       'Tapioca':34, 'Linseed':35, 'Other  Rabi pulses':36, 'Garlic':37, 'Dry ginger':38,\n",
    "       'Ginger':39, 'Niger seed':40, 'Jute':41, 'Masoor':42, 'Peas & beans (Pulses)':43,\n",
    "       'Black pepper':44, 'Coconut ':45, 'Moth':46, 'other oilseeds':47, 'Guar seed':48,\n",
    "       'Other Cereals & Millets':49, 'Barley':50, 'Cowpea(Lobia)':51, 'Sannhamp':52,\n",
    "       'Cardamom':53, 'Khesari':54, 'Paddy':55, 'Orange':56, 'Papaya':57, 'Pineapple':58,\n",
    "       'Brinjal':59, 'Grapes':60, 'Lemon':61, 'Mango':62, 'Pome Granet':63, 'Sapota':64,\n",
    "       'Tomato':65, 'Cabbage':66, 'Drum Stick':67},inplace=True)"
   ]
  },
  {
   "cell_type": "code",
   "execution_count": 21,
   "metadata": {
    "colab": {
     "base_uri": "https://localhost:8080/",
     "height": 206
    },
    "executionInfo": {
     "elapsed": 14,
     "status": "ok",
     "timestamp": 1696393132697,
     "user": {
      "displayName": "Ramnivash",
      "userId": "07203976126323004124"
     },
     "user_tz": -330
    },
    "id": "19Acfip5dObl",
    "outputId": "bb76c6b5-c89b-44da-90bc-6a738974bed9",
    "scrolled": true
   },
   "outputs": [
    {
     "data": {
      "text/html": [
       "<div>\n",
       "<style scoped>\n",
       "    .dataframe tbody tr th:only-of-type {\n",
       "        vertical-align: middle;\n",
       "    }\n",
       "\n",
       "    .dataframe tbody tr th {\n",
       "        vertical-align: top;\n",
       "    }\n",
       "\n",
       "    .dataframe thead th {\n",
       "        text-align: right;\n",
       "    }\n",
       "</style>\n",
       "<table border=\"1\" class=\"dataframe\">\n",
       "  <thead>\n",
       "    <tr style=\"text-align: right;\">\n",
       "      <th></th>\n",
       "      <th>State_Name</th>\n",
       "      <th>YEAR</th>\n",
       "      <th>Season</th>\n",
       "      <th>Crop</th>\n",
       "      <th>Area</th>\n",
       "      <th>MSP</th>\n",
       "      <th>ANNUAL</th>\n",
       "      <th>Population, total</th>\n",
       "    </tr>\n",
       "  </thead>\n",
       "  <tbody>\n",
       "    <tr>\n",
       "      <th>0</th>\n",
       "      <td>1</td>\n",
       "      <td>2019</td>\n",
       "      <td>1</td>\n",
       "      <td>1</td>\n",
       "      <td>66013.0</td>\n",
       "      <td>168.997016</td>\n",
       "      <td>1021.5</td>\n",
       "      <td>545314670</td>\n",
       "    </tr>\n",
       "    <tr>\n",
       "      <th>1</th>\n",
       "      <td>1</td>\n",
       "      <td>2019</td>\n",
       "      <td>1</td>\n",
       "      <td>1</td>\n",
       "      <td>66013.0</td>\n",
       "      <td>168.997016</td>\n",
       "      <td>1289.6</td>\n",
       "      <td>545314670</td>\n",
       "    </tr>\n",
       "    <tr>\n",
       "      <th>2</th>\n",
       "      <td>1</td>\n",
       "      <td>2019</td>\n",
       "      <td>1</td>\n",
       "      <td>1</td>\n",
       "      <td>66013.0</td>\n",
       "      <td>168.997016</td>\n",
       "      <td>1087.3</td>\n",
       "      <td>545314670</td>\n",
       "    </tr>\n",
       "    <tr>\n",
       "      <th>3</th>\n",
       "      <td>1</td>\n",
       "      <td>2019</td>\n",
       "      <td>1</td>\n",
       "      <td>1</td>\n",
       "      <td>66013.0</td>\n",
       "      <td>168.997016</td>\n",
       "      <td>1155.9</td>\n",
       "      <td>545314670</td>\n",
       "    </tr>\n",
       "    <tr>\n",
       "      <th>4</th>\n",
       "      <td>1</td>\n",
       "      <td>2019</td>\n",
       "      <td>1</td>\n",
       "      <td>1</td>\n",
       "      <td>66013.0</td>\n",
       "      <td>168.997016</td>\n",
       "      <td>1153.5</td>\n",
       "      <td>545314670</td>\n",
       "    </tr>\n",
       "  </tbody>\n",
       "</table>\n",
       "</div>"
      ],
      "text/plain": [
       "   State_Name  YEAR  Season  Crop     Area         MSP  ANNUAL  \\\n",
       "0           1  2019       1     1  66013.0  168.997016  1021.5   \n",
       "1           1  2019       1     1  66013.0  168.997016  1289.6   \n",
       "2           1  2019       1     1  66013.0  168.997016  1087.3   \n",
       "3           1  2019       1     1  66013.0  168.997016  1155.9   \n",
       "4           1  2019       1     1  66013.0  168.997016  1153.5   \n",
       "\n",
       "   Population, total  \n",
       "0          545314670  \n",
       "1          545314670  \n",
       "2          545314670  \n",
       "3          545314670  \n",
       "4          545314670  "
      ]
     },
     "execution_count": 21,
     "metadata": {},
     "output_type": "execute_result"
    }
   ],
   "source": [
    "df.head()"
   ]
  },
  {
   "cell_type": "code",
   "execution_count": 22,
   "metadata": {
    "executionInfo": {
     "elapsed": 11,
     "status": "ok",
     "timestamp": 1696393132697,
     "user": {
      "displayName": "Ramnivash",
      "userId": "07203976126323004124"
     },
     "user_tz": -330
    },
    "id": "dSiEOQWwdOd2"
   },
   "outputs": [],
   "source": [
    "X = df.drop(\"MSP\",axis = 1)\n",
    "Y = df[\"MSP\"]"
   ]
  },
  {
   "cell_type": "code",
   "execution_count": 23,
   "metadata": {
    "executionInfo": {
     "elapsed": 11,
     "status": "ok",
     "timestamp": 1696393132697,
     "user": {
      "displayName": "Ramnivash",
      "userId": "07203976126323004124"
     },
     "user_tz": -330
    },
    "id": "nWgunKmpdOgm"
   },
   "outputs": [],
   "source": [
    "X_train,X_test,Y_train,Y_test = train_test_split(X,Y,random_state=27,test_size=0.2)"
   ]
  },
  {
   "cell_type": "code",
   "execution_count": 24,
   "metadata": {
    "executionInfo": {
     "elapsed": 12,
     "status": "ok",
     "timestamp": 1696393132698,
     "user": {
      "displayName": "Ramnivash",
      "userId": "07203976126323004124"
     },
     "user_tz": -330
    },
    "id": "8lbJvE59dOi8"
   },
   "outputs": [],
   "source": [
    "train,test = train_test_split(df, test_size=0.25,random_state= 27)"
   ]
  },
  {
   "cell_type": "code",
   "execution_count": 25,
   "metadata": {
    "executionInfo": {
     "elapsed": 12,
     "status": "ok",
     "timestamp": 1696393132698,
     "user": {
      "displayName": "Ramnivash",
      "userId": "07203976126323004124"
     },
     "user_tz": -330
    },
    "id": "gi6wWoZ6dOmd"
   },
   "outputs": [],
   "source": [
    "random_reg = RandomForestRegressor(n_estimators = 100, random_state = 0)"
   ]
  },
  {
   "cell_type": "code",
   "execution_count": 26,
   "metadata": {
    "colab": {
     "base_uri": "https://localhost:8080/",
     "height": 74
    },
    "executionInfo": {
     "elapsed": 45194,
     "status": "ok",
     "timestamp": 1696393177881,
     "user": {
      "displayName": "Ramnivash",
      "userId": "07203976126323004124"
     },
     "user_tz": -330
    },
    "id": "OK-Nhm3Ihqsr",
    "outputId": "ebd731e5-d715-4888-b87f-092c841edbe4"
   },
   "outputs": [
    {
     "data": {
      "text/html": [
       "<style>#sk-container-id-1 {color: black;background-color: white;}#sk-container-id-1 pre{padding: 0;}#sk-container-id-1 div.sk-toggleable {background-color: white;}#sk-container-id-1 label.sk-toggleable__label {cursor: pointer;display: block;width: 100%;margin-bottom: 0;padding: 0.3em;box-sizing: border-box;text-align: center;}#sk-container-id-1 label.sk-toggleable__label-arrow:before {content: \"▸\";float: left;margin-right: 0.25em;color: #696969;}#sk-container-id-1 label.sk-toggleable__label-arrow:hover:before {color: black;}#sk-container-id-1 div.sk-estimator:hover label.sk-toggleable__label-arrow:before {color: black;}#sk-container-id-1 div.sk-toggleable__content {max-height: 0;max-width: 0;overflow: hidden;text-align: left;background-color: #f0f8ff;}#sk-container-id-1 div.sk-toggleable__content pre {margin: 0.2em;color: black;border-radius: 0.25em;background-color: #f0f8ff;}#sk-container-id-1 input.sk-toggleable__control:checked~div.sk-toggleable__content {max-height: 200px;max-width: 100%;overflow: auto;}#sk-container-id-1 input.sk-toggleable__control:checked~label.sk-toggleable__label-arrow:before {content: \"▾\";}#sk-container-id-1 div.sk-estimator input.sk-toggleable__control:checked~label.sk-toggleable__label {background-color: #d4ebff;}#sk-container-id-1 div.sk-label input.sk-toggleable__control:checked~label.sk-toggleable__label {background-color: #d4ebff;}#sk-container-id-1 input.sk-hidden--visually {border: 0;clip: rect(1px 1px 1px 1px);clip: rect(1px, 1px, 1px, 1px);height: 1px;margin: -1px;overflow: hidden;padding: 0;position: absolute;width: 1px;}#sk-container-id-1 div.sk-estimator {font-family: monospace;background-color: #f0f8ff;border: 1px dotted black;border-radius: 0.25em;box-sizing: border-box;margin-bottom: 0.5em;}#sk-container-id-1 div.sk-estimator:hover {background-color: #d4ebff;}#sk-container-id-1 div.sk-parallel-item::after {content: \"\";width: 100%;border-bottom: 1px solid gray;flex-grow: 1;}#sk-container-id-1 div.sk-label:hover label.sk-toggleable__label {background-color: #d4ebff;}#sk-container-id-1 div.sk-serial::before {content: \"\";position: absolute;border-left: 1px solid gray;box-sizing: border-box;top: 0;bottom: 0;left: 50%;z-index: 0;}#sk-container-id-1 div.sk-serial {display: flex;flex-direction: column;align-items: center;background-color: white;padding-right: 0.2em;padding-left: 0.2em;position: relative;}#sk-container-id-1 div.sk-item {position: relative;z-index: 1;}#sk-container-id-1 div.sk-parallel {display: flex;align-items: stretch;justify-content: center;background-color: white;position: relative;}#sk-container-id-1 div.sk-item::before, #sk-container-id-1 div.sk-parallel-item::before {content: \"\";position: absolute;border-left: 1px solid gray;box-sizing: border-box;top: 0;bottom: 0;left: 50%;z-index: -1;}#sk-container-id-1 div.sk-parallel-item {display: flex;flex-direction: column;z-index: 1;position: relative;background-color: white;}#sk-container-id-1 div.sk-parallel-item:first-child::after {align-self: flex-end;width: 50%;}#sk-container-id-1 div.sk-parallel-item:last-child::after {align-self: flex-start;width: 50%;}#sk-container-id-1 div.sk-parallel-item:only-child::after {width: 0;}#sk-container-id-1 div.sk-dashed-wrapped {border: 1px dashed gray;margin: 0 0.4em 0.5em 0.4em;box-sizing: border-box;padding-bottom: 0.4em;background-color: white;}#sk-container-id-1 div.sk-label label {font-family: monospace;font-weight: bold;display: inline-block;line-height: 1.2em;}#sk-container-id-1 div.sk-label-container {text-align: center;}#sk-container-id-1 div.sk-container {/* jupyter's `normalize.less` sets `[hidden] { display: none; }` but bootstrap.min.css set `[hidden] { display: none !important; }` so we also need the `!important` here to be able to override the default hidden behavior on the sphinx rendered scikit-learn.org. See: https://github.com/scikit-learn/scikit-learn/issues/21755 */display: inline-block !important;position: relative;}#sk-container-id-1 div.sk-text-repr-fallback {display: none;}</style><div id=\"sk-container-id-1\" class=\"sk-top-container\"><div class=\"sk-text-repr-fallback\"><pre>RandomForestRegressor(random_state=0)</pre><b>In a Jupyter environment, please rerun this cell to show the HTML representation or trust the notebook. <br />On GitHub, the HTML representation is unable to render, please try loading this page with nbviewer.org.</b></div><div class=\"sk-container\" hidden><div class=\"sk-item\"><div class=\"sk-estimator sk-toggleable\"><input class=\"sk-toggleable__control sk-hidden--visually\" id=\"sk-estimator-id-1\" type=\"checkbox\" checked><label for=\"sk-estimator-id-1\" class=\"sk-toggleable__label sk-toggleable__label-arrow\">RandomForestRegressor</label><div class=\"sk-toggleable__content\"><pre>RandomForestRegressor(random_state=0)</pre></div></div></div></div></div>"
      ],
      "text/plain": [
       "RandomForestRegressor(random_state=0)"
      ]
     },
     "execution_count": 26,
     "metadata": {},
     "output_type": "execute_result"
    }
   ],
   "source": [
    "random_reg.fit(X_train, Y_train)"
   ]
  },
  {
   "cell_type": "code",
   "execution_count": 27,
   "metadata": {
    "executionInfo": {
     "elapsed": 1337,
     "status": "ok",
     "timestamp": 1696393179213,
     "user": {
      "displayName": "Ramnivash",
      "userId": "07203976126323004124"
     },
     "user_tz": -330
    },
    "id": "jZYv_QRghqyK"
   },
   "outputs": [],
   "source": [
    "Y_pred = random_reg.predict(X_test)"
   ]
  },
  {
   "cell_type": "code",
   "execution_count": 28,
   "metadata": {
    "colab": {
     "base_uri": "https://localhost:8080/"
    },
    "executionInfo": {
     "elapsed": 9,
     "status": "ok",
     "timestamp": 1696393179213,
     "user": {
      "displayName": "Ramnivash",
      "userId": "07203976126323004124"
     },
     "user_tz": -330
    },
    "id": "O6DGuqL7hq1w",
    "outputId": "6d3ea035-bf4d-4880-9c58-eadf98d0bca5"
   },
   "outputs": [
    {
     "data": {
      "text/plain": [
       "0.9937409439585199"
      ]
     },
     "execution_count": 28,
     "metadata": {},
     "output_type": "execute_result"
    }
   ],
   "source": [
    "r2_score = r2_score(Y_pred,Y_test)\n",
    "r2_score"
   ]
  },
  {
   "cell_type": "code",
   "execution_count": 29,
   "metadata": {
    "colab": {
     "base_uri": "https://localhost:8080/",
     "height": 482
    },
    "executionInfo": {
     "elapsed": 3942,
     "status": "ok",
     "timestamp": 1696393183151,
     "user": {
      "displayName": "Ramnivash",
      "userId": "07203976126323004124"
     },
     "user_tz": -330
    },
    "id": "yzSjxtBkiPcA",
    "outputId": "d639f2e8-26b6-4294-db00-2683d2639fd6"
   },
   "outputs": [
    {
     "data": {
      "text/plain": [
       "[Text(0.5, 0, 'Predicted'), Text(0, 0.5, 'Actual')]"
      ]
     },
     "execution_count": 29,
     "metadata": {},
     "output_type": "execute_result"
    },
    {
     "data": {
      "image/png": "[encoded data removed]",
      "text/plain": [
       "<Figure size 640x480 with 1 Axes>"
      ]
     },
     "metadata": {},
     "output_type": "display_data"
    }
   ],
   "source": [
    "plot = sns.regplot(x=Y_pred,y=Y_test)\n",
    "plot.set(xlabel=\"Predicted\",ylabel = \"Actual\")"
   ]
  },
  {
   "cell_type": "code",
   "execution_count": 30,
   "metadata": {
    "colab": {
     "base_uri": "https://localhost:8080/"
    },
    "executionInfo": {
     "elapsed": 55,
     "status": "ok",
     "timestamp": 1696393183152,
     "user": {
      "displayName": "Ramnivash",
      "userId": "07203976126323004124"
     },
     "user_tz": -330
    },
    "id": "KtLCnHe1iPew",
    "outputId": "3b04463f-3894-4f6d-a860-2e724d71cc7d",
    "scrolled": true
   },
   "outputs": [
    {
     "data": {
      "text/plain": [
       "61500"
      ]
     },
     "execution_count": 30,
     "metadata": {},
     "output_type": "execute_result"
    }
   ],
   "source": [
    "len(Y_pred)"
   ]
  },
  {
   "cell_type": "code",
   "execution_count": 31,
   "metadata": {
    "scrolled": false
   },
   "outputs": [
    {
     "data": {
      "text/plain": [
       "array([ 377.41664915, 1743.60943699, 2424.56719594, ...,  199.09939087,\n",
       "        875.99726619,  315.7894737 ])"
      ]
     },
     "execution_count": 31,
     "metadata": {},
     "output_type": "execute_result"
    }
   ],
   "source": [
    "Y_pred"
   ]
  },
  {
   "cell_type": "code",
   "execution_count": 32,
   "metadata": {},
   "outputs": [
    {
     "data": {
      "text/plain": [
       "61500"
      ]
     },
     "execution_count": 32,
     "metadata": {},
     "output_type": "execute_result"
    }
   ],
   "source": [
    "len(X_test)"
   ]
  },
  {
   "cell_type": "code",
   "execution_count": 33,
   "metadata": {},
   "outputs": [
    {
     "data": {
      "text/plain": [
       "33089005.480000015"
      ]
     },
     "execution_count": 33,
     "metadata": {},
     "output_type": "execute_result"
    }
   ],
   "source": [
    "a=Y_pred.max()\n",
    "a"
   ]
  },
  {
   "cell_type": "code",
   "execution_count": null,
   "metadata": {},
   "outputs": [],
   "source": []
  },
  {
   "cell_type": "code",
   "execution_count": 34,
   "metadata": {
    "colab": {
     "base_uri": "https://localhost:8080/"
    },
    "executionInfo": {
     "elapsed": 48,
     "status": "ok",
     "timestamp": 1696393183154,
     "user": {
      "displayName": "Ramnivash",
      "userId": "07203976126323004124"
     },
     "user_tz": -330
    },
    "id": "lDQE7pkbqXA9",
    "outputId": "78d5dd18-4c67-4103-fa2e-ae6f64cb9e0c"
   },
   "outputs": [
    {
     "data": {
      "text/plain": [
       "1204"
      ]
     },
     "execution_count": 34,
     "metadata": {},
     "output_type": "execute_result"
    }
   ],
   "source": [
    "s=0\n",
    "for i in Y_pred:\n",
    "  if i!=a:\n",
    "    s+=1\n",
    "  else:\n",
    "    break\n",
    "s"
   ]
  },
  {
   "cell_type": "code",
   "execution_count": 35,
   "metadata": {
    "colab": {
     "base_uri": "https://localhost:8080/"
    },
    "executionInfo": {
     "elapsed": 47,
     "status": "ok",
     "timestamp": 1696393183155,
     "user": {
      "displayName": "Ramnivash",
      "userId": "07203976126323004124"
     },
     "user_tz": -330
    },
    "id": "oSBXtLDVqXDa",
    "outputId": "47a291c4-0072-4b01-f1c9-0d8c571a0f3b"
   },
   "outputs": [
    {
     "data": {
      "text/plain": [
       "State_Name                   5.0\n",
       "YEAR                      2021.0\n",
       "Season                       2.0\n",
       "Crop                        17.0\n",
       "Area                         1.0\n",
       "ANNUAL                    3314.2\n",
       "Population, total    569999178.0\n",
       "Name: 139683, dtype: float64"
      ]
     },
     "execution_count": 35,
     "metadata": {},
     "output_type": "execute_result"
    }
   ],
   "source": [
    "X_test.iloc[1205]"
   ]
  },
  {
   "cell_type": "code",
   "execution_count": 40,
   "metadata": {
    "colab": {
     "base_uri": "https://localhost:8080/",
     "height": 423
    },
    "executionInfo": {
     "elapsed": 1543,
     "status": "ok",
     "timestamp": 1696393495832,
     "user": {
      "displayName": "Ramnivash",
      "userId": "07203976126323004124"
     },
     "user_tz": -330
    },
    "id": "kKUHSOr8qXFT",
    "outputId": "3ec711b6-adb6-432c-9a1a-34720e4bad8b"
   },
   "outputs": [
    {
     "data": {
      "text/html": [
       "<div>\n",
       "<style scoped>\n",
       "    .dataframe tbody tr th:only-of-type {\n",
       "        vertical-align: middle;\n",
       "    }\n",
       "\n",
       "    .dataframe tbody tr th {\n",
       "        vertical-align: top;\n",
       "    }\n",
       "\n",
       "    .dataframe thead th {\n",
       "        text-align: right;\n",
       "    }\n",
       "</style>\n",
       "<table border=\"1\" class=\"dataframe\">\n",
       "  <thead>\n",
       "    <tr style=\"text-align: right;\">\n",
       "      <th></th>\n",
       "      <th>State_Name</th>\n",
       "      <th>YEAR</th>\n",
       "      <th>Season</th>\n",
       "      <th>Crop</th>\n",
       "      <th>Area</th>\n",
       "      <th>MSP</th>\n",
       "      <th>ANNUAL</th>\n",
       "      <th>Population, total</th>\n",
       "    </tr>\n",
       "  </thead>\n",
       "  <tbody>\n",
       "    <tr>\n",
       "      <th>128</th>\n",
       "      <td>Andhra Pradesh</td>\n",
       "      <td>2019</td>\n",
       "      <td>Kharif</td>\n",
       "      <td>Urad</td>\n",
       "      <td>14.0</td>\n",
       "      <td>428.571429</td>\n",
       "      <td>1021.5</td>\n",
       "      <td>545314670</td>\n",
       "    </tr>\n",
       "    <tr>\n",
       "      <th>129</th>\n",
       "      <td>Andhra Pradesh</td>\n",
       "      <td>2019</td>\n",
       "      <td>Kharif</td>\n",
       "      <td>Urad</td>\n",
       "      <td>14.0</td>\n",
       "      <td>428.571429</td>\n",
       "      <td>1289.6</td>\n",
       "      <td>545314670</td>\n",
       "    </tr>\n",
       "    <tr>\n",
       "      <th>130</th>\n",
       "      <td>Andhra Pradesh</td>\n",
       "      <td>2019</td>\n",
       "      <td>Kharif</td>\n",
       "      <td>Urad</td>\n",
       "      <td>14.0</td>\n",
       "      <td>428.571429</td>\n",
       "      <td>1087.3</td>\n",
       "      <td>545314670</td>\n",
       "    </tr>\n",
       "    <tr>\n",
       "      <th>131</th>\n",
       "      <td>Andhra Pradesh</td>\n",
       "      <td>2019</td>\n",
       "      <td>Kharif</td>\n",
       "      <td>Urad</td>\n",
       "      <td>14.0</td>\n",
       "      <td>428.571429</td>\n",
       "      <td>1155.9</td>\n",
       "      <td>545314670</td>\n",
       "    </tr>\n",
       "    <tr>\n",
       "      <th>132</th>\n",
       "      <td>Andhra Pradesh</td>\n",
       "      <td>2019</td>\n",
       "      <td>Kharif</td>\n",
       "      <td>Urad</td>\n",
       "      <td>14.0</td>\n",
       "      <td>428.571429</td>\n",
       "      <td>1153.5</td>\n",
       "      <td>545314670</td>\n",
       "    </tr>\n",
       "    <tr>\n",
       "      <th>...</th>\n",
       "      <td>...</td>\n",
       "      <td>...</td>\n",
       "      <td>...</td>\n",
       "      <td>...</td>\n",
       "      <td>...</td>\n",
       "      <td>...</td>\n",
       "      <td>...</td>\n",
       "      <td>...</td>\n",
       "    </tr>\n",
       "    <tr>\n",
       "      <th>307437</th>\n",
       "      <td>West Bengal</td>\n",
       "      <td>2023</td>\n",
       "      <td>Rabi</td>\n",
       "      <td>Urad</td>\n",
       "      <td>220.0</td>\n",
       "      <td>513.636364</td>\n",
       "      <td>1735.2</td>\n",
       "      <td>596107483</td>\n",
       "    </tr>\n",
       "    <tr>\n",
       "      <th>307438</th>\n",
       "      <td>West Bengal</td>\n",
       "      <td>2023</td>\n",
       "      <td>Rabi</td>\n",
       "      <td>Urad</td>\n",
       "      <td>220.0</td>\n",
       "      <td>513.636364</td>\n",
       "      <td>1240.6</td>\n",
       "      <td>596107483</td>\n",
       "    </tr>\n",
       "    <tr>\n",
       "      <th>307439</th>\n",
       "      <td>West Bengal</td>\n",
       "      <td>2023</td>\n",
       "      <td>Rabi</td>\n",
       "      <td>Urad</td>\n",
       "      <td>220.0</td>\n",
       "      <td>513.636364</td>\n",
       "      <td>1961.3</td>\n",
       "      <td>596107483</td>\n",
       "    </tr>\n",
       "    <tr>\n",
       "      <th>307440</th>\n",
       "      <td>West Bengal</td>\n",
       "      <td>2023</td>\n",
       "      <td>Rabi</td>\n",
       "      <td>Urad</td>\n",
       "      <td>220.0</td>\n",
       "      <td>513.636364</td>\n",
       "      <td>1530.8</td>\n",
       "      <td>596107483</td>\n",
       "    </tr>\n",
       "    <tr>\n",
       "      <th>307441</th>\n",
       "      <td>West Bengal</td>\n",
       "      <td>2023</td>\n",
       "      <td>Rabi</td>\n",
       "      <td>Urad</td>\n",
       "      <td>220.0</td>\n",
       "      <td>513.636364</td>\n",
       "      <td>1315.0</td>\n",
       "      <td>596107483</td>\n",
       "    </tr>\n",
       "  </tbody>\n",
       "</table>\n",
       "<p>12787 rows × 8 columns</p>\n",
       "</div>"
      ],
      "text/plain": [
       "            State_Name  YEAR       Season  Crop   Area         MSP  ANNUAL  \\\n",
       "128     Andhra Pradesh  2019  Kharif       Urad   14.0  428.571429  1021.5   \n",
       "129     Andhra Pradesh  2019  Kharif       Urad   14.0  428.571429  1289.6   \n",
       "130     Andhra Pradesh  2019  Kharif       Urad   14.0  428.571429  1087.3   \n",
       "131     Andhra Pradesh  2019  Kharif       Urad   14.0  428.571429  1155.9   \n",
       "132     Andhra Pradesh  2019  Kharif       Urad   14.0  428.571429  1153.5   \n",
       "...                ...   ...          ...   ...    ...         ...     ...   \n",
       "307437     West Bengal  2023  Rabi         Urad  220.0  513.636364  1735.2   \n",
       "307438     West Bengal  2023  Rabi         Urad  220.0  513.636364  1240.6   \n",
       "307439     West Bengal  2023  Rabi         Urad  220.0  513.636364  1961.3   \n",
       "307440     West Bengal  2023  Rabi         Urad  220.0  513.636364  1530.8   \n",
       "307441     West Bengal  2023  Rabi         Urad  220.0  513.636364  1315.0   \n",
       "\n",
       "        Population, total  \n",
       "128             545314670  \n",
       "129             545314670  \n",
       "130             545314670  \n",
       "131             545314670  \n",
       "132             545314670  \n",
       "...                   ...  \n",
       "307437          596107483  \n",
       "307438          596107483  \n",
       "307439          596107483  \n",
       "307440          596107483  \n",
       "307441          596107483  \n",
       "\n",
       "[12787 rows x 8 columns]"
      ]
     },
     "execution_count": 40,
     "metadata": {},
     "output_type": "execute_result"
    }
   ],
   "source": [
    "res = final.loc[final['Crop'] == 'Urad']\n",
    "res"
   ]
  },
  {
   "cell_type": "code",
   "execution_count": 37,
   "metadata": {
    "colab": {
     "base_uri": "https://localhost:8080/"
    },
    "executionInfo": {
     "elapsed": 6,
     "status": "ok",
     "timestamp": 1696393515799,
     "user": {
      "displayName": "Ramnivash",
      "userId": "07203976126323004124"
     },
     "user_tz": -330
    },
    "id": "s6Xs1FKcu-py",
    "outputId": "8323923b-9fd4-41a7-e5b5-9454bbe9e751"
   },
   "outputs": [
    {
     "data": {
      "text/plain": [
       "array([1, 2, 3, 4, 5, 6], dtype=int64)"
      ]
     },
     "execution_count": 37,
     "metadata": {},
     "output_type": "execute_result"
    }
   ],
   "source": [
    "final[\"Season\"].unique()"
   ]
  },
  {
   "cell_type": "code",
   "execution_count": 41,
   "metadata": {
    "colab": {
     "base_uri": "https://localhost:8080/"
    },
    "executionInfo": {
     "elapsed": 417,
     "status": "ok",
     "timestamp": 1696393590759,
     "user": {
      "displayName": "Ramnivash",
      "userId": "07203976126323004124"
     },
     "user_tz": -330
    },
    "id": "JbFVxGxZvEtH",
    "outputId": "454d117d-23b1-44cc-f2c7-ad03bbff8d92"
   },
   "outputs": [
    {
     "data": {
      "text/html": [
       "<div>\n",
       "<style scoped>\n",
       "    .dataframe tbody tr th:only-of-type {\n",
       "        vertical-align: middle;\n",
       "    }\n",
       "\n",
       "    .dataframe tbody tr th {\n",
       "        vertical-align: top;\n",
       "    }\n",
       "\n",
       "    .dataframe thead th {\n",
       "        text-align: right;\n",
       "    }\n",
       "</style>\n",
       "<table border=\"1\" class=\"dataframe\">\n",
       "  <thead>\n",
       "    <tr style=\"text-align: right;\">\n",
       "      <th></th>\n",
       "      <th>0</th>\n",
       "    </tr>\n",
       "  </thead>\n",
       "  <tbody>\n",
       "    <tr>\n",
       "      <th>0</th>\n",
       "      <td>Bajra</td>\n",
       "    </tr>\n",
       "    <tr>\n",
       "      <th>1</th>\n",
       "      <td>Gram</td>\n",
       "    </tr>\n",
       "    <tr>\n",
       "      <th>2</th>\n",
       "      <td>Groundnut</td>\n",
       "    </tr>\n",
       "    <tr>\n",
       "      <th>3</th>\n",
       "      <td>Horse-gram</td>\n",
       "    </tr>\n",
       "    <tr>\n",
       "      <th>4</th>\n",
       "      <td>Jowar</td>\n",
       "    </tr>\n",
       "    <tr>\n",
       "      <th>5</th>\n",
       "      <td>Maize</td>\n",
       "    </tr>\n",
       "    <tr>\n",
       "      <th>6</th>\n",
       "      <td>Moong(Green Gram)</td>\n",
       "    </tr>\n",
       "    <tr>\n",
       "      <th>7</th>\n",
       "      <td>Onion</td>\n",
       "    </tr>\n",
       "    <tr>\n",
       "      <th>8</th>\n",
       "      <td>Ragi</td>\n",
       "    </tr>\n",
       "    <tr>\n",
       "      <th>9</th>\n",
       "      <td>Rice</td>\n",
       "    </tr>\n",
       "    <tr>\n",
       "      <th>10</th>\n",
       "      <td>Safflower</td>\n",
       "    </tr>\n",
       "    <tr>\n",
       "      <th>11</th>\n",
       "      <td>Wheat</td>\n",
       "    </tr>\n",
       "    <tr>\n",
       "      <th>12</th>\n",
       "      <td>Arhar/Tur</td>\n",
       "    </tr>\n",
       "    <tr>\n",
       "      <th>13</th>\n",
       "      <td>Dry chillies</td>\n",
       "    </tr>\n",
       "    <tr>\n",
       "      <th>14</th>\n",
       "      <td>Rapeseed &amp;Mustard</td>\n",
       "    </tr>\n",
       "    <tr>\n",
       "      <th>15</th>\n",
       "      <td>Sesamum</td>\n",
       "    </tr>\n",
       "    <tr>\n",
       "      <th>16</th>\n",
       "      <td>Linseed</td>\n",
       "    </tr>\n",
       "    <tr>\n",
       "      <th>17</th>\n",
       "      <td>Other  Rabi pulses</td>\n",
       "    </tr>\n",
       "    <tr>\n",
       "      <th>18</th>\n",
       "      <td>Small millets</td>\n",
       "    </tr>\n",
       "    <tr>\n",
       "      <th>19</th>\n",
       "      <td>Arecanut</td>\n",
       "    </tr>\n",
       "    <tr>\n",
       "      <th>20</th>\n",
       "      <td>Banana</td>\n",
       "    </tr>\n",
       "    <tr>\n",
       "      <th>21</th>\n",
       "      <td>Masoor</td>\n",
       "    </tr>\n",
       "    <tr>\n",
       "      <th>22</th>\n",
       "      <td>Peas &amp; beans (Pulses)</td>\n",
       "    </tr>\n",
       "    <tr>\n",
       "      <th>23</th>\n",
       "      <td>Other Cereals &amp; Millets</td>\n",
       "    </tr>\n",
       "    <tr>\n",
       "      <th>24</th>\n",
       "      <td>Tobacco</td>\n",
       "    </tr>\n",
       "    <tr>\n",
       "      <th>25</th>\n",
       "      <td>Barley</td>\n",
       "    </tr>\n",
       "    <tr>\n",
       "      <th>26</th>\n",
       "      <td>Potato</td>\n",
       "    </tr>\n",
       "    <tr>\n",
       "      <th>27</th>\n",
       "      <td>Coriander</td>\n",
       "    </tr>\n",
       "    <tr>\n",
       "      <th>28</th>\n",
       "      <td>Garlic</td>\n",
       "    </tr>\n",
       "    <tr>\n",
       "      <th>29</th>\n",
       "      <td>Cotton(lint)</td>\n",
       "    </tr>\n",
       "    <tr>\n",
       "      <th>30</th>\n",
       "      <td>Cowpea(Lobia)</td>\n",
       "    </tr>\n",
       "    <tr>\n",
       "      <th>31</th>\n",
       "      <td>Sunflower</td>\n",
       "    </tr>\n",
       "    <tr>\n",
       "      <th>32</th>\n",
       "      <td>Khesari</td>\n",
       "    </tr>\n",
       "    <tr>\n",
       "      <th>33</th>\n",
       "      <td>Turmeric</td>\n",
       "    </tr>\n",
       "    <tr>\n",
       "      <th>34</th>\n",
       "      <td>other oilseeds</td>\n",
       "    </tr>\n",
       "    <tr>\n",
       "      <th>35</th>\n",
       "      <td>Black pepper</td>\n",
       "    </tr>\n",
       "    <tr>\n",
       "      <th>36</th>\n",
       "      <td>Ginger</td>\n",
       "    </tr>\n",
       "    <tr>\n",
       "      <th>37</th>\n",
       "      <td>Pineapple</td>\n",
       "    </tr>\n",
       "    <tr>\n",
       "      <th>38</th>\n",
       "      <td>Sweet potato</td>\n",
       "    </tr>\n",
       "    <tr>\n",
       "      <th>39</th>\n",
       "      <td>Brinjal</td>\n",
       "    </tr>\n",
       "    <tr>\n",
       "      <th>40</th>\n",
       "      <td>Castor seed</td>\n",
       "    </tr>\n",
       "    <tr>\n",
       "      <th>41</th>\n",
       "      <td>Tomato</td>\n",
       "    </tr>\n",
       "    <tr>\n",
       "      <th>42</th>\n",
       "      <td>Cabbage</td>\n",
       "    </tr>\n",
       "    <tr>\n",
       "      <th>43</th>\n",
       "      <td>Mesta</td>\n",
       "    </tr>\n",
       "    <tr>\n",
       "      <th>44</th>\n",
       "      <td>Dry ginger</td>\n",
       "    </tr>\n",
       "    <tr>\n",
       "      <th>45</th>\n",
       "      <td>Papaya</td>\n",
       "    </tr>\n",
       "    <tr>\n",
       "      <th>46</th>\n",
       "      <td>Soyabean</td>\n",
       "    </tr>\n",
       "    <tr>\n",
       "      <th>47</th>\n",
       "      <td>Niger seed</td>\n",
       "    </tr>\n",
       "    <tr>\n",
       "      <th>48</th>\n",
       "      <td>Other Kharif pulses</td>\n",
       "    </tr>\n",
       "    <tr>\n",
       "      <th>49</th>\n",
       "      <td>Moth</td>\n",
       "    </tr>\n",
       "  </tbody>\n",
       "</table>\n",
       "</div>"
      ],
      "text/plain": [
       "                          0\n",
       "0                     Bajra\n",
       "1                      Gram\n",
       "2                 Groundnut\n",
       "3                Horse-gram\n",
       "4                     Jowar\n",
       "5                     Maize\n",
       "6         Moong(Green Gram)\n",
       "7                     Onion\n",
       "8                      Ragi\n",
       "9                      Rice\n",
       "10                Safflower\n",
       "11                    Wheat\n",
       "12                Arhar/Tur\n",
       "13             Dry chillies\n",
       "14        Rapeseed &Mustard\n",
       "15                  Sesamum\n",
       "16                  Linseed\n",
       "17       Other  Rabi pulses\n",
       "18            Small millets\n",
       "19                 Arecanut\n",
       "20                   Banana\n",
       "21                   Masoor\n",
       "22    Peas & beans (Pulses)\n",
       "23  Other Cereals & Millets\n",
       "24                  Tobacco\n",
       "25                   Barley\n",
       "26                   Potato\n",
       "27                Coriander\n",
       "28                   Garlic\n",
       "29             Cotton(lint)\n",
       "30            Cowpea(Lobia)\n",
       "31                Sunflower\n",
       "32                  Khesari\n",
       "33                 Turmeric\n",
       "34           other oilseeds\n",
       "35             Black pepper\n",
       "36                   Ginger\n",
       "37                Pineapple\n",
       "38             Sweet potato\n",
       "39                  Brinjal\n",
       "40              Castor seed\n",
       "41                   Tomato\n",
       "42                  Cabbage\n",
       "43                    Mesta\n",
       "44               Dry ginger\n",
       "45                   Papaya\n",
       "46                 Soyabean\n",
       "47               Niger seed\n",
       "48      Other Kharif pulses\n",
       "49                     Moth"
      ]
     },
     "execution_count": 41,
     "metadata": {},
     "output_type": "execute_result"
    }
   ],
   "source": [
    "sug=final.loc[\n",
    "    (final[\"Season\"] == \"Rabi       \") & (final[\"Crop\"] != \"Urad\")]\n",
    "sug=pd.DataFrame(sug[\"Crop\"].unique())\n",
    "sug"
   ]
  },
  {
   "cell_type": "code",
   "execution_count": null,
   "metadata": {},
   "outputs": [],
   "source": []
  }
 ],
 "metadata": {
  "colab": {
   "authorship_tag": "ABX9TyM+GpPxlPzUtFvWYCQeJQnJ",
   "provenance": []
  },
  "kernelspec": {
   "display_name": "Python 3 (ipykernel)",
   "language": "python",
   "name": "python3"
  },
  "language_info": {
   "codemirror_mode": {
    "name": "ipython",
    "version": 3
   },
   "file_extension": ".py",
   "mimetype": "text/x-python",
   "name": "python",
   "nbconvert_exporter": "python",
   "pygments_lexer": "ipython3",
   "version": "3.11.0"
  }
 },
 "nbformat": 4,
 "nbformat_minor": 1
}
